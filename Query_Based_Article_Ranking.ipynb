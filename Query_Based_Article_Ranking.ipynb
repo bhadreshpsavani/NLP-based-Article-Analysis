{
  "nbformat": 4,
  "nbformat_minor": 0,
  "metadata": {
    "colab": {
      "name": "Query-Based-Article-Ranking.ipynb",
      "provenance": [],
      "authorship_tag": "ABX9TyM3/Xi/fa24IbdTDKuel5qy",
      "include_colab_link": true
    },
    "kernelspec": {
      "name": "python3",
      "display_name": "Python 3"
    },
    "widgets": {
      "application/vnd.jupyter.widget-state+json": {
        "c846f8fd81f044aeb65009cbaf74d62e": {
          "model_module": "@jupyter-widgets/controls",
          "model_name": "HBoxModel",
          "state": {
            "_view_name": "HBoxView",
            "_dom_classes": [],
            "_model_name": "HBoxModel",
            "_view_module": "@jupyter-widgets/controls",
            "_model_module_version": "1.5.0",
            "_view_count": null,
            "_view_module_version": "1.5.0",
            "box_style": "",
            "layout": "IPY_MODEL_4540cff4000c484ba3ff101dcd495a8f",
            "_model_module": "@jupyter-widgets/controls",
            "children": [
              "IPY_MODEL_ac5815a609ac4637927e50446d6710a3",
              "IPY_MODEL_62dedb3b42744c8f8fb93b2e02c2d380"
            ]
          }
        },
        "4540cff4000c484ba3ff101dcd495a8f": {
          "model_module": "@jupyter-widgets/base",
          "model_name": "LayoutModel",
          "state": {
            "_view_name": "LayoutView",
            "grid_template_rows": null,
            "right": null,
            "justify_content": null,
            "_view_module": "@jupyter-widgets/base",
            "overflow": null,
            "_model_module_version": "1.2.0",
            "_view_count": null,
            "flex_flow": null,
            "width": null,
            "min_width": null,
            "border": null,
            "align_items": null,
            "bottom": null,
            "_model_module": "@jupyter-widgets/base",
            "top": null,
            "grid_column": null,
            "overflow_y": null,
            "overflow_x": null,
            "grid_auto_flow": null,
            "grid_area": null,
            "grid_template_columns": null,
            "flex": null,
            "_model_name": "LayoutModel",
            "justify_items": null,
            "grid_row": null,
            "max_height": null,
            "align_content": null,
            "visibility": null,
            "align_self": null,
            "height": null,
            "min_height": null,
            "padding": null,
            "grid_auto_rows": null,
            "grid_gap": null,
            "max_width": null,
            "order": null,
            "_view_module_version": "1.2.0",
            "grid_template_areas": null,
            "object_position": null,
            "object_fit": null,
            "grid_auto_columns": null,
            "margin": null,
            "display": null,
            "left": null
          }
        },
        "ac5815a609ac4637927e50446d6710a3": {
          "model_module": "@jupyter-widgets/controls",
          "model_name": "FloatProgressModel",
          "state": {
            "_view_name": "ProgressView",
            "style": "IPY_MODEL_38b78aede2a74146a8cbbe5a25699b1f",
            "_dom_classes": [],
            "description": "Downloading: 100%",
            "_model_name": "FloatProgressModel",
            "bar_style": "success",
            "max": 560,
            "_view_module": "@jupyter-widgets/controls",
            "_model_module_version": "1.5.0",
            "value": 560,
            "_view_count": null,
            "_view_module_version": "1.5.0",
            "orientation": "horizontal",
            "min": 0,
            "description_tooltip": null,
            "_model_module": "@jupyter-widgets/controls",
            "layout": "IPY_MODEL_166f8e6a2ee74274b83fc6ec1459ef78"
          }
        },
        "62dedb3b42744c8f8fb93b2e02c2d380": {
          "model_module": "@jupyter-widgets/controls",
          "model_name": "HTMLModel",
          "state": {
            "_view_name": "HTMLView",
            "style": "IPY_MODEL_dc6b96b79e9249cd8a04866b4f3cd3ce",
            "_dom_classes": [],
            "description": "",
            "_model_name": "HTMLModel",
            "placeholder": "​",
            "_view_module": "@jupyter-widgets/controls",
            "_model_module_version": "1.5.0",
            "value": " 560/560 [00:19&lt;00:00, 28.0B/s]",
            "_view_count": null,
            "_view_module_version": "1.5.0",
            "description_tooltip": null,
            "_model_module": "@jupyter-widgets/controls",
            "layout": "IPY_MODEL_f6f4fb390ce04c12920ecfc1becb9452"
          }
        },
        "38b78aede2a74146a8cbbe5a25699b1f": {
          "model_module": "@jupyter-widgets/controls",
          "model_name": "ProgressStyleModel",
          "state": {
            "_view_name": "StyleView",
            "_model_name": "ProgressStyleModel",
            "description_width": "initial",
            "_view_module": "@jupyter-widgets/base",
            "_model_module_version": "1.5.0",
            "_view_count": null,
            "_view_module_version": "1.2.0",
            "bar_color": null,
            "_model_module": "@jupyter-widgets/controls"
          }
        },
        "166f8e6a2ee74274b83fc6ec1459ef78": {
          "model_module": "@jupyter-widgets/base",
          "model_name": "LayoutModel",
          "state": {
            "_view_name": "LayoutView",
            "grid_template_rows": null,
            "right": null,
            "justify_content": null,
            "_view_module": "@jupyter-widgets/base",
            "overflow": null,
            "_model_module_version": "1.2.0",
            "_view_count": null,
            "flex_flow": null,
            "width": null,
            "min_width": null,
            "border": null,
            "align_items": null,
            "bottom": null,
            "_model_module": "@jupyter-widgets/base",
            "top": null,
            "grid_column": null,
            "overflow_y": null,
            "overflow_x": null,
            "grid_auto_flow": null,
            "grid_area": null,
            "grid_template_columns": null,
            "flex": null,
            "_model_name": "LayoutModel",
            "justify_items": null,
            "grid_row": null,
            "max_height": null,
            "align_content": null,
            "visibility": null,
            "align_self": null,
            "height": null,
            "min_height": null,
            "padding": null,
            "grid_auto_rows": null,
            "grid_gap": null,
            "max_width": null,
            "order": null,
            "_view_module_version": "1.2.0",
            "grid_template_areas": null,
            "object_position": null,
            "object_fit": null,
            "grid_auto_columns": null,
            "margin": null,
            "display": null,
            "left": null
          }
        },
        "dc6b96b79e9249cd8a04866b4f3cd3ce": {
          "model_module": "@jupyter-widgets/controls",
          "model_name": "DescriptionStyleModel",
          "state": {
            "_view_name": "StyleView",
            "_model_name": "DescriptionStyleModel",
            "description_width": "",
            "_view_module": "@jupyter-widgets/base",
            "_model_module_version": "1.5.0",
            "_view_count": null,
            "_view_module_version": "1.2.0",
            "_model_module": "@jupyter-widgets/controls"
          }
        },
        "f6f4fb390ce04c12920ecfc1becb9452": {
          "model_module": "@jupyter-widgets/base",
          "model_name": "LayoutModel",
          "state": {
            "_view_name": "LayoutView",
            "grid_template_rows": null,
            "right": null,
            "justify_content": null,
            "_view_module": "@jupyter-widgets/base",
            "overflow": null,
            "_model_module_version": "1.2.0",
            "_view_count": null,
            "flex_flow": null,
            "width": null,
            "min_width": null,
            "border": null,
            "align_items": null,
            "bottom": null,
            "_model_module": "@jupyter-widgets/base",
            "top": null,
            "grid_column": null,
            "overflow_y": null,
            "overflow_x": null,
            "grid_auto_flow": null,
            "grid_area": null,
            "grid_template_columns": null,
            "flex": null,
            "_model_name": "LayoutModel",
            "justify_items": null,
            "grid_row": null,
            "max_height": null,
            "align_content": null,
            "visibility": null,
            "align_self": null,
            "height": null,
            "min_height": null,
            "padding": null,
            "grid_auto_rows": null,
            "grid_gap": null,
            "max_width": null,
            "order": null,
            "_view_module_version": "1.2.0",
            "grid_template_areas": null,
            "object_position": null,
            "object_fit": null,
            "grid_auto_columns": null,
            "margin": null,
            "display": null,
            "left": null
          }
        },
        "62e756264a0a4fc69de38603deada4c8": {
          "model_module": "@jupyter-widgets/controls",
          "model_name": "HBoxModel",
          "state": {
            "_view_name": "HBoxView",
            "_dom_classes": [],
            "_model_name": "HBoxModel",
            "_view_module": "@jupyter-widgets/controls",
            "_model_module_version": "1.5.0",
            "_view_count": null,
            "_view_module_version": "1.5.0",
            "box_style": "",
            "layout": "IPY_MODEL_4af1d960aae048ed9a318f479fd1861b",
            "_model_module": "@jupyter-widgets/controls",
            "children": [
              "IPY_MODEL_c2bb87e33bc3400abc06bc49024d5a33",
              "IPY_MODEL_933aca13d6524f40b0859e40d875a923"
            ]
          }
        },
        "4af1d960aae048ed9a318f479fd1861b": {
          "model_module": "@jupyter-widgets/base",
          "model_name": "LayoutModel",
          "state": {
            "_view_name": "LayoutView",
            "grid_template_rows": null,
            "right": null,
            "justify_content": null,
            "_view_module": "@jupyter-widgets/base",
            "overflow": null,
            "_model_module_version": "1.2.0",
            "_view_count": null,
            "flex_flow": null,
            "width": null,
            "min_width": null,
            "border": null,
            "align_items": null,
            "bottom": null,
            "_model_module": "@jupyter-widgets/base",
            "top": null,
            "grid_column": null,
            "overflow_y": null,
            "overflow_x": null,
            "grid_auto_flow": null,
            "grid_area": null,
            "grid_template_columns": null,
            "flex": null,
            "_model_name": "LayoutModel",
            "justify_items": null,
            "grid_row": null,
            "max_height": null,
            "align_content": null,
            "visibility": null,
            "align_self": null,
            "height": null,
            "min_height": null,
            "padding": null,
            "grid_auto_rows": null,
            "grid_gap": null,
            "max_width": null,
            "order": null,
            "_view_module_version": "1.2.0",
            "grid_template_areas": null,
            "object_position": null,
            "object_fit": null,
            "grid_auto_columns": null,
            "margin": null,
            "display": null,
            "left": null
          }
        },
        "c2bb87e33bc3400abc06bc49024d5a33": {
          "model_module": "@jupyter-widgets/controls",
          "model_name": "FloatProgressModel",
          "state": {
            "_view_name": "ProgressView",
            "style": "IPY_MODEL_dce089797e12416db858b7879ddceb0f",
            "_dom_classes": [],
            "description": "Downloading: 100%",
            "_model_name": "FloatProgressModel",
            "bar_style": "success",
            "max": 438021385,
            "_view_module": "@jupyter-widgets/controls",
            "_model_module_version": "1.5.0",
            "value": 438021385,
            "_view_count": null,
            "_view_module_version": "1.5.0",
            "orientation": "horizontal",
            "min": 0,
            "description_tooltip": null,
            "_model_module": "@jupyter-widgets/controls",
            "layout": "IPY_MODEL_66a7fd92a57e4fe89d00eb26cde1108f"
          }
        },
        "933aca13d6524f40b0859e40d875a923": {
          "model_module": "@jupyter-widgets/controls",
          "model_name": "HTMLModel",
          "state": {
            "_view_name": "HTMLView",
            "style": "IPY_MODEL_4931125d0ec94730bf01bf66affc3031",
            "_dom_classes": [],
            "description": "",
            "_model_name": "HTMLModel",
            "placeholder": "​",
            "_view_module": "@jupyter-widgets/controls",
            "_model_module_version": "1.5.0",
            "value": " 438M/438M [00:13&lt;00:00, 33.3MB/s]",
            "_view_count": null,
            "_view_module_version": "1.5.0",
            "description_tooltip": null,
            "_model_module": "@jupyter-widgets/controls",
            "layout": "IPY_MODEL_22f516b3e3754afca9596b746e30dcd0"
          }
        },
        "dce089797e12416db858b7879ddceb0f": {
          "model_module": "@jupyter-widgets/controls",
          "model_name": "ProgressStyleModel",
          "state": {
            "_view_name": "StyleView",
            "_model_name": "ProgressStyleModel",
            "description_width": "initial",
            "_view_module": "@jupyter-widgets/base",
            "_model_module_version": "1.5.0",
            "_view_count": null,
            "_view_module_version": "1.2.0",
            "bar_color": null,
            "_model_module": "@jupyter-widgets/controls"
          }
        },
        "66a7fd92a57e4fe89d00eb26cde1108f": {
          "model_module": "@jupyter-widgets/base",
          "model_name": "LayoutModel",
          "state": {
            "_view_name": "LayoutView",
            "grid_template_rows": null,
            "right": null,
            "justify_content": null,
            "_view_module": "@jupyter-widgets/base",
            "overflow": null,
            "_model_module_version": "1.2.0",
            "_view_count": null,
            "flex_flow": null,
            "width": null,
            "min_width": null,
            "border": null,
            "align_items": null,
            "bottom": null,
            "_model_module": "@jupyter-widgets/base",
            "top": null,
            "grid_column": null,
            "overflow_y": null,
            "overflow_x": null,
            "grid_auto_flow": null,
            "grid_area": null,
            "grid_template_columns": null,
            "flex": null,
            "_model_name": "LayoutModel",
            "justify_items": null,
            "grid_row": null,
            "max_height": null,
            "align_content": null,
            "visibility": null,
            "align_self": null,
            "height": null,
            "min_height": null,
            "padding": null,
            "grid_auto_rows": null,
            "grid_gap": null,
            "max_width": null,
            "order": null,
            "_view_module_version": "1.2.0",
            "grid_template_areas": null,
            "object_position": null,
            "object_fit": null,
            "grid_auto_columns": null,
            "margin": null,
            "display": null,
            "left": null
          }
        },
        "4931125d0ec94730bf01bf66affc3031": {
          "model_module": "@jupyter-widgets/controls",
          "model_name": "DescriptionStyleModel",
          "state": {
            "_view_name": "StyleView",
            "_model_name": "DescriptionStyleModel",
            "description_width": "",
            "_view_module": "@jupyter-widgets/base",
            "_model_module_version": "1.5.0",
            "_view_count": null,
            "_view_module_version": "1.2.0",
            "_model_module": "@jupyter-widgets/controls"
          }
        },
        "22f516b3e3754afca9596b746e30dcd0": {
          "model_module": "@jupyter-widgets/base",
          "model_name": "LayoutModel",
          "state": {
            "_view_name": "LayoutView",
            "grid_template_rows": null,
            "right": null,
            "justify_content": null,
            "_view_module": "@jupyter-widgets/base",
            "overflow": null,
            "_model_module_version": "1.2.0",
            "_view_count": null,
            "flex_flow": null,
            "width": null,
            "min_width": null,
            "border": null,
            "align_items": null,
            "bottom": null,
            "_model_module": "@jupyter-widgets/base",
            "top": null,
            "grid_column": null,
            "overflow_y": null,
            "overflow_x": null,
            "grid_auto_flow": null,
            "grid_area": null,
            "grid_template_columns": null,
            "flex": null,
            "_model_name": "LayoutModel",
            "justify_items": null,
            "grid_row": null,
            "max_height": null,
            "align_content": null,
            "visibility": null,
            "align_self": null,
            "height": null,
            "min_height": null,
            "padding": null,
            "grid_auto_rows": null,
            "grid_gap": null,
            "max_width": null,
            "order": null,
            "_view_module_version": "1.2.0",
            "grid_template_areas": null,
            "object_position": null,
            "object_fit": null,
            "grid_auto_columns": null,
            "margin": null,
            "display": null,
            "left": null
          }
        },
        "8ee7da8f23cf45c79511e1e4f82f71c4": {
          "model_module": "@jupyter-widgets/controls",
          "model_name": "HBoxModel",
          "state": {
            "_view_name": "HBoxView",
            "_dom_classes": [],
            "_model_name": "HBoxModel",
            "_view_module": "@jupyter-widgets/controls",
            "_model_module_version": "1.5.0",
            "_view_count": null,
            "_view_module_version": "1.5.0",
            "box_style": "",
            "layout": "IPY_MODEL_9769db1ff79d4163983c09e5587fe02b",
            "_model_module": "@jupyter-widgets/controls",
            "children": [
              "IPY_MODEL_7f42427245a841d88872d59a00493b1f",
              "IPY_MODEL_cfa2f9e8d79b4a3b8e41334ed02044ac"
            ]
          }
        },
        "9769db1ff79d4163983c09e5587fe02b": {
          "model_module": "@jupyter-widgets/base",
          "model_name": "LayoutModel",
          "state": {
            "_view_name": "LayoutView",
            "grid_template_rows": null,
            "right": null,
            "justify_content": null,
            "_view_module": "@jupyter-widgets/base",
            "overflow": null,
            "_model_module_version": "1.2.0",
            "_view_count": null,
            "flex_flow": null,
            "width": null,
            "min_width": null,
            "border": null,
            "align_items": null,
            "bottom": null,
            "_model_module": "@jupyter-widgets/base",
            "top": null,
            "grid_column": null,
            "overflow_y": null,
            "overflow_x": null,
            "grid_auto_flow": null,
            "grid_area": null,
            "grid_template_columns": null,
            "flex": null,
            "_model_name": "LayoutModel",
            "justify_items": null,
            "grid_row": null,
            "max_height": null,
            "align_content": null,
            "visibility": null,
            "align_self": null,
            "height": null,
            "min_height": null,
            "padding": null,
            "grid_auto_rows": null,
            "grid_gap": null,
            "max_width": null,
            "order": null,
            "_view_module_version": "1.2.0",
            "grid_template_areas": null,
            "object_position": null,
            "object_fit": null,
            "grid_auto_columns": null,
            "margin": null,
            "display": null,
            "left": null
          }
        },
        "7f42427245a841d88872d59a00493b1f": {
          "model_module": "@jupyter-widgets/controls",
          "model_name": "FloatProgressModel",
          "state": {
            "_view_name": "ProgressView",
            "style": "IPY_MODEL_2a53c54f97494e169f71e895a28eb1de",
            "_dom_classes": [],
            "description": "Downloading: 100%",
            "_model_name": "FloatProgressModel",
            "bar_style": "success",
            "max": 231508,
            "_view_module": "@jupyter-widgets/controls",
            "_model_module_version": "1.5.0",
            "value": 231508,
            "_view_count": null,
            "_view_module_version": "1.5.0",
            "orientation": "horizontal",
            "min": 0,
            "description_tooltip": null,
            "_model_module": "@jupyter-widgets/controls",
            "layout": "IPY_MODEL_affff800e8554eb29b6b668401c636c5"
          }
        },
        "cfa2f9e8d79b4a3b8e41334ed02044ac": {
          "model_module": "@jupyter-widgets/controls",
          "model_name": "HTMLModel",
          "state": {
            "_view_name": "HTMLView",
            "style": "IPY_MODEL_882b6b79d68a4684b1ea315e64e94ef6",
            "_dom_classes": [],
            "description": "",
            "_model_name": "HTMLModel",
            "placeholder": "​",
            "_view_module": "@jupyter-widgets/controls",
            "_model_module_version": "1.5.0",
            "value": " 232k/232k [00:01&lt;00:00, 221kB/s]",
            "_view_count": null,
            "_view_module_version": "1.5.0",
            "description_tooltip": null,
            "_model_module": "@jupyter-widgets/controls",
            "layout": "IPY_MODEL_fa034abc163449c2a4a2bd145e9abe0d"
          }
        },
        "2a53c54f97494e169f71e895a28eb1de": {
          "model_module": "@jupyter-widgets/controls",
          "model_name": "ProgressStyleModel",
          "state": {
            "_view_name": "StyleView",
            "_model_name": "ProgressStyleModel",
            "description_width": "initial",
            "_view_module": "@jupyter-widgets/base",
            "_model_module_version": "1.5.0",
            "_view_count": null,
            "_view_module_version": "1.2.0",
            "bar_color": null,
            "_model_module": "@jupyter-widgets/controls"
          }
        },
        "affff800e8554eb29b6b668401c636c5": {
          "model_module": "@jupyter-widgets/base",
          "model_name": "LayoutModel",
          "state": {
            "_view_name": "LayoutView",
            "grid_template_rows": null,
            "right": null,
            "justify_content": null,
            "_view_module": "@jupyter-widgets/base",
            "overflow": null,
            "_model_module_version": "1.2.0",
            "_view_count": null,
            "flex_flow": null,
            "width": null,
            "min_width": null,
            "border": null,
            "align_items": null,
            "bottom": null,
            "_model_module": "@jupyter-widgets/base",
            "top": null,
            "grid_column": null,
            "overflow_y": null,
            "overflow_x": null,
            "grid_auto_flow": null,
            "grid_area": null,
            "grid_template_columns": null,
            "flex": null,
            "_model_name": "LayoutModel",
            "justify_items": null,
            "grid_row": null,
            "max_height": null,
            "align_content": null,
            "visibility": null,
            "align_self": null,
            "height": null,
            "min_height": null,
            "padding": null,
            "grid_auto_rows": null,
            "grid_gap": null,
            "max_width": null,
            "order": null,
            "_view_module_version": "1.2.0",
            "grid_template_areas": null,
            "object_position": null,
            "object_fit": null,
            "grid_auto_columns": null,
            "margin": null,
            "display": null,
            "left": null
          }
        },
        "882b6b79d68a4684b1ea315e64e94ef6": {
          "model_module": "@jupyter-widgets/controls",
          "model_name": "DescriptionStyleModel",
          "state": {
            "_view_name": "StyleView",
            "_model_name": "DescriptionStyleModel",
            "description_width": "",
            "_view_module": "@jupyter-widgets/base",
            "_model_module_version": "1.5.0",
            "_view_count": null,
            "_view_module_version": "1.2.0",
            "_model_module": "@jupyter-widgets/controls"
          }
        },
        "fa034abc163449c2a4a2bd145e9abe0d": {
          "model_module": "@jupyter-widgets/base",
          "model_name": "LayoutModel",
          "state": {
            "_view_name": "LayoutView",
            "grid_template_rows": null,
            "right": null,
            "justify_content": null,
            "_view_module": "@jupyter-widgets/base",
            "overflow": null,
            "_model_module_version": "1.2.0",
            "_view_count": null,
            "flex_flow": null,
            "width": null,
            "min_width": null,
            "border": null,
            "align_items": null,
            "bottom": null,
            "_model_module": "@jupyter-widgets/base",
            "top": null,
            "grid_column": null,
            "overflow_y": null,
            "overflow_x": null,
            "grid_auto_flow": null,
            "grid_area": null,
            "grid_template_columns": null,
            "flex": null,
            "_model_name": "LayoutModel",
            "justify_items": null,
            "grid_row": null,
            "max_height": null,
            "align_content": null,
            "visibility": null,
            "align_self": null,
            "height": null,
            "min_height": null,
            "padding": null,
            "grid_auto_rows": null,
            "grid_gap": null,
            "max_width": null,
            "order": null,
            "_view_module_version": "1.2.0",
            "grid_template_areas": null,
            "object_position": null,
            "object_fit": null,
            "grid_auto_columns": null,
            "margin": null,
            "display": null,
            "left": null
          }
        },
        "8448a8855f974930b7682757c94966a6": {
          "model_module": "@jupyter-widgets/controls",
          "model_name": "HBoxModel",
          "state": {
            "_view_name": "HBoxView",
            "_dom_classes": [],
            "_model_name": "HBoxModel",
            "_view_module": "@jupyter-widgets/controls",
            "_model_module_version": "1.5.0",
            "_view_count": null,
            "_view_module_version": "1.5.0",
            "box_style": "",
            "layout": "IPY_MODEL_e51b482c0dd24b1d94b8da893b02c599",
            "_model_module": "@jupyter-widgets/controls",
            "children": [
              "IPY_MODEL_b1946e5ea8ee4a278b50ca140df77f1f",
              "IPY_MODEL_affc8691936f45268f98d0c4c8ef303f"
            ]
          }
        },
        "e51b482c0dd24b1d94b8da893b02c599": {
          "model_module": "@jupyter-widgets/base",
          "model_name": "LayoutModel",
          "state": {
            "_view_name": "LayoutView",
            "grid_template_rows": null,
            "right": null,
            "justify_content": null,
            "_view_module": "@jupyter-widgets/base",
            "overflow": null,
            "_model_module_version": "1.2.0",
            "_view_count": null,
            "flex_flow": null,
            "width": null,
            "min_width": null,
            "border": null,
            "align_items": null,
            "bottom": null,
            "_model_module": "@jupyter-widgets/base",
            "top": null,
            "grid_column": null,
            "overflow_y": null,
            "overflow_x": null,
            "grid_auto_flow": null,
            "grid_area": null,
            "grid_template_columns": null,
            "flex": null,
            "_model_name": "LayoutModel",
            "justify_items": null,
            "grid_row": null,
            "max_height": null,
            "align_content": null,
            "visibility": null,
            "align_self": null,
            "height": null,
            "min_height": null,
            "padding": null,
            "grid_auto_rows": null,
            "grid_gap": null,
            "max_width": null,
            "order": null,
            "_view_module_version": "1.2.0",
            "grid_template_areas": null,
            "object_position": null,
            "object_fit": null,
            "grid_auto_columns": null,
            "margin": null,
            "display": null,
            "left": null
          }
        },
        "b1946e5ea8ee4a278b50ca140df77f1f": {
          "model_module": "@jupyter-widgets/controls",
          "model_name": "FloatProgressModel",
          "state": {
            "_view_name": "ProgressView",
            "style": "IPY_MODEL_e898b17a4cd748bdaa1cf0231318d153",
            "_dom_classes": [],
            "description": "Downloading: 100%",
            "_model_name": "FloatProgressModel",
            "bar_style": "success",
            "max": 112,
            "_view_module": "@jupyter-widgets/controls",
            "_model_module_version": "1.5.0",
            "value": 112,
            "_view_count": null,
            "_view_module_version": "1.5.0",
            "orientation": "horizontal",
            "min": 0,
            "description_tooltip": null,
            "_model_module": "@jupyter-widgets/controls",
            "layout": "IPY_MODEL_cb843178500f4107af621718c0ccba67"
          }
        },
        "affc8691936f45268f98d0c4c8ef303f": {
          "model_module": "@jupyter-widgets/controls",
          "model_name": "HTMLModel",
          "state": {
            "_view_name": "HTMLView",
            "style": "IPY_MODEL_bbdc712402ed4e198d22402bb12d2b4b",
            "_dom_classes": [],
            "description": "",
            "_model_name": "HTMLModel",
            "placeholder": "​",
            "_view_module": "@jupyter-widgets/controls",
            "_model_module_version": "1.5.0",
            "value": " 112/112 [00:00&lt;00:00, 212B/s]",
            "_view_count": null,
            "_view_module_version": "1.5.0",
            "description_tooltip": null,
            "_model_module": "@jupyter-widgets/controls",
            "layout": "IPY_MODEL_2e6b038eb1dd494696cb6141afc06916"
          }
        },
        "e898b17a4cd748bdaa1cf0231318d153": {
          "model_module": "@jupyter-widgets/controls",
          "model_name": "ProgressStyleModel",
          "state": {
            "_view_name": "StyleView",
            "_model_name": "ProgressStyleModel",
            "description_width": "initial",
            "_view_module": "@jupyter-widgets/base",
            "_model_module_version": "1.5.0",
            "_view_count": null,
            "_view_module_version": "1.2.0",
            "bar_color": null,
            "_model_module": "@jupyter-widgets/controls"
          }
        },
        "cb843178500f4107af621718c0ccba67": {
          "model_module": "@jupyter-widgets/base",
          "model_name": "LayoutModel",
          "state": {
            "_view_name": "LayoutView",
            "grid_template_rows": null,
            "right": null,
            "justify_content": null,
            "_view_module": "@jupyter-widgets/base",
            "overflow": null,
            "_model_module_version": "1.2.0",
            "_view_count": null,
            "flex_flow": null,
            "width": null,
            "min_width": null,
            "border": null,
            "align_items": null,
            "bottom": null,
            "_model_module": "@jupyter-widgets/base",
            "top": null,
            "grid_column": null,
            "overflow_y": null,
            "overflow_x": null,
            "grid_auto_flow": null,
            "grid_area": null,
            "grid_template_columns": null,
            "flex": null,
            "_model_name": "LayoutModel",
            "justify_items": null,
            "grid_row": null,
            "max_height": null,
            "align_content": null,
            "visibility": null,
            "align_self": null,
            "height": null,
            "min_height": null,
            "padding": null,
            "grid_auto_rows": null,
            "grid_gap": null,
            "max_width": null,
            "order": null,
            "_view_module_version": "1.2.0",
            "grid_template_areas": null,
            "object_position": null,
            "object_fit": null,
            "grid_auto_columns": null,
            "margin": null,
            "display": null,
            "left": null
          }
        },
        "bbdc712402ed4e198d22402bb12d2b4b": {
          "model_module": "@jupyter-widgets/controls",
          "model_name": "DescriptionStyleModel",
          "state": {
            "_view_name": "StyleView",
            "_model_name": "DescriptionStyleModel",
            "description_width": "",
            "_view_module": "@jupyter-widgets/base",
            "_model_module_version": "1.5.0",
            "_view_count": null,
            "_view_module_version": "1.2.0",
            "_model_module": "@jupyter-widgets/controls"
          }
        },
        "2e6b038eb1dd494696cb6141afc06916": {
          "model_module": "@jupyter-widgets/base",
          "model_name": "LayoutModel",
          "state": {
            "_view_name": "LayoutView",
            "grid_template_rows": null,
            "right": null,
            "justify_content": null,
            "_view_module": "@jupyter-widgets/base",
            "overflow": null,
            "_model_module_version": "1.2.0",
            "_view_count": null,
            "flex_flow": null,
            "width": null,
            "min_width": null,
            "border": null,
            "align_items": null,
            "bottom": null,
            "_model_module": "@jupyter-widgets/base",
            "top": null,
            "grid_column": null,
            "overflow_y": null,
            "overflow_x": null,
            "grid_auto_flow": null,
            "grid_area": null,
            "grid_template_columns": null,
            "flex": null,
            "_model_name": "LayoutModel",
            "justify_items": null,
            "grid_row": null,
            "max_height": null,
            "align_content": null,
            "visibility": null,
            "align_self": null,
            "height": null,
            "min_height": null,
            "padding": null,
            "grid_auto_rows": null,
            "grid_gap": null,
            "max_width": null,
            "order": null,
            "_view_module_version": "1.2.0",
            "grid_template_areas": null,
            "object_position": null,
            "object_fit": null,
            "grid_auto_columns": null,
            "margin": null,
            "display": null,
            "left": null
          }
        },
        "ae83726cf01944479096afc92bbb886a": {
          "model_module": "@jupyter-widgets/controls",
          "model_name": "HBoxModel",
          "state": {
            "_view_name": "HBoxView",
            "_dom_classes": [],
            "_model_name": "HBoxModel",
            "_view_module": "@jupyter-widgets/controls",
            "_model_module_version": "1.5.0",
            "_view_count": null,
            "_view_module_version": "1.5.0",
            "box_style": "",
            "layout": "IPY_MODEL_62da5442dbc14ec5a3ac3044a5ddad41",
            "_model_module": "@jupyter-widgets/controls",
            "children": [
              "IPY_MODEL_3db243e4c79f411cb36f78cb990edf8f",
              "IPY_MODEL_61348c58a3134ae1b47e84dad7d0dc81"
            ]
          }
        },
        "62da5442dbc14ec5a3ac3044a5ddad41": {
          "model_module": "@jupyter-widgets/base",
          "model_name": "LayoutModel",
          "state": {
            "_view_name": "LayoutView",
            "grid_template_rows": null,
            "right": null,
            "justify_content": null,
            "_view_module": "@jupyter-widgets/base",
            "overflow": null,
            "_model_module_version": "1.2.0",
            "_view_count": null,
            "flex_flow": null,
            "width": null,
            "min_width": null,
            "border": null,
            "align_items": null,
            "bottom": null,
            "_model_module": "@jupyter-widgets/base",
            "top": null,
            "grid_column": null,
            "overflow_y": null,
            "overflow_x": null,
            "grid_auto_flow": null,
            "grid_area": null,
            "grid_template_columns": null,
            "flex": null,
            "_model_name": "LayoutModel",
            "justify_items": null,
            "grid_row": null,
            "max_height": null,
            "align_content": null,
            "visibility": null,
            "align_self": null,
            "height": null,
            "min_height": null,
            "padding": null,
            "grid_auto_rows": null,
            "grid_gap": null,
            "max_width": null,
            "order": null,
            "_view_module_version": "1.2.0",
            "grid_template_areas": null,
            "object_position": null,
            "object_fit": null,
            "grid_auto_columns": null,
            "margin": null,
            "display": null,
            "left": null
          }
        },
        "3db243e4c79f411cb36f78cb990edf8f": {
          "model_module": "@jupyter-widgets/controls",
          "model_name": "FloatProgressModel",
          "state": {
            "_view_name": "ProgressView",
            "style": "IPY_MODEL_3d2fad7802f14ae986ba989feb8e2bbe",
            "_dom_classes": [],
            "description": "Downloading: 100%",
            "_model_name": "FloatProgressModel",
            "bar_style": "success",
            "max": 48,
            "_view_module": "@jupyter-widgets/controls",
            "_model_module_version": "1.5.0",
            "value": 48,
            "_view_count": null,
            "_view_module_version": "1.5.0",
            "orientation": "horizontal",
            "min": 0,
            "description_tooltip": null,
            "_model_module": "@jupyter-widgets/controls",
            "layout": "IPY_MODEL_04685ba5105942f8a0f60d76e98d98bb"
          }
        },
        "61348c58a3134ae1b47e84dad7d0dc81": {
          "model_module": "@jupyter-widgets/controls",
          "model_name": "HTMLModel",
          "state": {
            "_view_name": "HTMLView",
            "style": "IPY_MODEL_aadfcdf83b5b4322b47679e8ac4e358d",
            "_dom_classes": [],
            "description": "",
            "_model_name": "HTMLModel",
            "placeholder": "​",
            "_view_module": "@jupyter-widgets/controls",
            "_model_module_version": "1.5.0",
            "value": " 48.0/48.0 [00:00&lt;00:00, 668B/s]",
            "_view_count": null,
            "_view_module_version": "1.5.0",
            "description_tooltip": null,
            "_model_module": "@jupyter-widgets/controls",
            "layout": "IPY_MODEL_7a3a06219e0b4b649c39abc5b937f1c9"
          }
        },
        "3d2fad7802f14ae986ba989feb8e2bbe": {
          "model_module": "@jupyter-widgets/controls",
          "model_name": "ProgressStyleModel",
          "state": {
            "_view_name": "StyleView",
            "_model_name": "ProgressStyleModel",
            "description_width": "initial",
            "_view_module": "@jupyter-widgets/base",
            "_model_module_version": "1.5.0",
            "_view_count": null,
            "_view_module_version": "1.2.0",
            "bar_color": null,
            "_model_module": "@jupyter-widgets/controls"
          }
        },
        "04685ba5105942f8a0f60d76e98d98bb": {
          "model_module": "@jupyter-widgets/base",
          "model_name": "LayoutModel",
          "state": {
            "_view_name": "LayoutView",
            "grid_template_rows": null,
            "right": null,
            "justify_content": null,
            "_view_module": "@jupyter-widgets/base",
            "overflow": null,
            "_model_module_version": "1.2.0",
            "_view_count": null,
            "flex_flow": null,
            "width": null,
            "min_width": null,
            "border": null,
            "align_items": null,
            "bottom": null,
            "_model_module": "@jupyter-widgets/base",
            "top": null,
            "grid_column": null,
            "overflow_y": null,
            "overflow_x": null,
            "grid_auto_flow": null,
            "grid_area": null,
            "grid_template_columns": null,
            "flex": null,
            "_model_name": "LayoutModel",
            "justify_items": null,
            "grid_row": null,
            "max_height": null,
            "align_content": null,
            "visibility": null,
            "align_self": null,
            "height": null,
            "min_height": null,
            "padding": null,
            "grid_auto_rows": null,
            "grid_gap": null,
            "max_width": null,
            "order": null,
            "_view_module_version": "1.2.0",
            "grid_template_areas": null,
            "object_position": null,
            "object_fit": null,
            "grid_auto_columns": null,
            "margin": null,
            "display": null,
            "left": null
          }
        },
        "aadfcdf83b5b4322b47679e8ac4e358d": {
          "model_module": "@jupyter-widgets/controls",
          "model_name": "DescriptionStyleModel",
          "state": {
            "_view_name": "StyleView",
            "_model_name": "DescriptionStyleModel",
            "description_width": "",
            "_view_module": "@jupyter-widgets/base",
            "_model_module_version": "1.5.0",
            "_view_count": null,
            "_view_module_version": "1.2.0",
            "_model_module": "@jupyter-widgets/controls"
          }
        },
        "7a3a06219e0b4b649c39abc5b937f1c9": {
          "model_module": "@jupyter-widgets/base",
          "model_name": "LayoutModel",
          "state": {
            "_view_name": "LayoutView",
            "grid_template_rows": null,
            "right": null,
            "justify_content": null,
            "_view_module": "@jupyter-widgets/base",
            "overflow": null,
            "_model_module_version": "1.2.0",
            "_view_count": null,
            "flex_flow": null,
            "width": null,
            "min_width": null,
            "border": null,
            "align_items": null,
            "bottom": null,
            "_model_module": "@jupyter-widgets/base",
            "top": null,
            "grid_column": null,
            "overflow_y": null,
            "overflow_x": null,
            "grid_auto_flow": null,
            "grid_area": null,
            "grid_template_columns": null,
            "flex": null,
            "_model_name": "LayoutModel",
            "justify_items": null,
            "grid_row": null,
            "max_height": null,
            "align_content": null,
            "visibility": null,
            "align_self": null,
            "height": null,
            "min_height": null,
            "padding": null,
            "grid_auto_rows": null,
            "grid_gap": null,
            "max_width": null,
            "order": null,
            "_view_module_version": "1.2.0",
            "grid_template_areas": null,
            "object_position": null,
            "object_fit": null,
            "grid_auto_columns": null,
            "margin": null,
            "display": null,
            "left": null
          }
        }
      }
    }
  },
  "cells": [
    {
      "cell_type": "markdown",
      "metadata": {
        "id": "view-in-github",
        "colab_type": "text"
      },
      "source": [
        "<a href=\"https://colab.research.google.com/github/bhadreshpsavani/NLP-based-Article-Analysis/blob/main/Query_Based_Article_Ranking.ipynb\" target=\"_parent\"><img src=\"https://colab.research.google.com/assets/colab-badge.svg\" alt=\"Open In Colab\"/></a>"
      ]
    },
    {
      "cell_type": "markdown",
      "metadata": {
        "id": "yjyIfekilFJx"
      },
      "source": [
        "# Query Based Article Ranking:\r\n",
        "\r\n",
        "**We have Articles, We want to rank it according to the given Query**\r\n",
        "\r\n",
        "In this task we have considered [MS MARCO dataset](https://github.com/microsoft/MSMARCO-Document-Ranking). \r\n",
        "\r\n",
        "MS MARCO(Microsoft Machine Reading Comprehension) is also used for evaluaton and training for passage/document ranking.\r\n",
        "\r\n",
        "The [Leaderboard](https://microsoft.github.io/msmarco/) of the datasets shows that \t**`LCE loss + HDCT (ensemble)`** based model gives best results as per date `2021/01/20`. Details about LCE Loss and the experiment on Different model architecture can be found in this [research paper](https://arxiv.org/pdf/2101.08751.pdf)\r\n",
        "\r\n",
        "The model is original model used is **bert-base** they call it bert-base-mdoc-hdct. It can is available at [Huggingface Model Hub](https://huggingface.co/Luyu/bert-base-mdoc-hdct)\r\n",
        "\r\n",
        "### Evaluation Results:\r\n",
        "```\r\n",
        "MRR @10: 0.434 on Dev. MRR @10: 0.382 on Eval.\r\n",
        "```\r\n",
        "\r\n",
        "If we want to train the model on entire dataset of MS MARCO, Training and Evaluation script are available at their official [github](https://github.com/luyug/Reranker) repository. They mentioned that because of large courpus of data it will take really longer time. I will not train it, i will take few example and run the inference on pretrained model.\r\n"
      ]
    },
    {
      "cell_type": "code",
      "metadata": {
        "colab": {
          "base_uri": "https://localhost:8080/"
        },
        "id": "JO-9rOl4k9hd",
        "outputId": "59f1b807-b9e1-4019-be2f-dd790dc6265b"
      },
      "source": [
        "!pip install -q git+https://github.com/luyug/Reranker.git\r\n",
        "!pip install -q datasets"
      ],
      "execution_count": 3,
      "outputs": [
        {
          "output_type": "stream",
          "text": [
            "  Building wheel for reranker (setup.py) ... \u001b[?25l\u001b[?25hdone\n"
          ],
          "name": "stdout"
        }
      ]
    },
    {
      "cell_type": "markdown",
      "metadata": {
        "id": "1259QWE2tVMf"
      },
      "source": [
        "## Load Dataset: \r\n",
        "ms_marco is available in two versions v1.1 and v2.1\r\n",
        "\r\n",
        "below table shows number of data/examples available for both version\r\n",
        "\r\n",
        "| name\t| train | \tvalidation | \ttest |\r\n",
        "| ---- | ---- | ----- | ---- |\r\n",
        "| v1.1|\t82326\t| 10047\t| 9650 |\r\n",
        "| v2.1 | \t808731\t| 101093\t| 101092 |\r\n"
      ]
    },
    {
      "cell_type": "code",
      "metadata": {
        "colab": {
          "base_uri": "https://localhost:8080/"
        },
        "id": "JMu8UR7orxzb",
        "outputId": "b7d0726b-0203-49b7-f04a-c1a9776dee8a"
      },
      "source": [
        "# load dataset\r\n",
        "from datasets import load_dataset\r\n",
        "import numpy as np\r\n",
        "dataset = load_dataset(\"ms_marco\",  'v1.1')"
      ],
      "execution_count": 62,
      "outputs": [
        {
          "output_type": "stream",
          "text": [
            "Reusing dataset ms_marco (/root/.cache/huggingface/datasets/ms_marco/v1.1/1.1.0/8378931e642240518368077ec1cc5b794130258f94ed47a957aba95e8910912a)\n"
          ],
          "name": "stderr"
        }
      ]
    },
    {
      "cell_type": "code",
      "metadata": {
        "colab": {
          "base_uri": "https://localhost:8080/"
        },
        "id": "KaALEx0hs-66",
        "outputId": "2db70495-7ec6-48ed-a95f-caf0b8e46b56"
      },
      "source": [
        "dataset"
      ],
      "execution_count": 8,
      "outputs": [
        {
          "output_type": "execute_result",
          "data": {
            "text/plain": [
              "DatasetDict({\n",
              "    validation: Dataset({\n",
              "        features: ['answers', 'passages', 'query', 'query_id', 'query_type', 'wellFormedAnswers'],\n",
              "        num_rows: 10047\n",
              "    })\n",
              "    train: Dataset({\n",
              "        features: ['answers', 'passages', 'query', 'query_id', 'query_type', 'wellFormedAnswers'],\n",
              "        num_rows: 82326\n",
              "    })\n",
              "    test: Dataset({\n",
              "        features: ['answers', 'passages', 'query', 'query_id', 'query_type', 'wellFormedAnswers'],\n",
              "        num_rows: 9650\n",
              "    })\n",
              "})"
            ]
          },
          "metadata": {
            "tags": []
          },
          "execution_count": 8
        }
      ]
    },
    {
      "cell_type": "code",
      "metadata": {
        "id": "w6ojgGopvcvy"
      },
      "source": [
        "test_data = dataset['test']"
      ],
      "execution_count": 13,
      "outputs": []
    },
    {
      "cell_type": "code",
      "metadata": {
        "colab": {
          "base_uri": "https://localhost:8080/"
        },
        "id": "p86KfbwSt5qL",
        "outputId": "3ec8322a-d04c-49f9-ba5b-e5e08d014fe5"
      },
      "source": [
        "print(test_data['answers'][0])\r\n",
        "print(test_data['passages'][0])\r\n",
        "print(test_data['query'][0])\r\n",
        "print(test_data['query_id'][0])\r\n",
        "print(test_data['query_type'][0])\r\n",
        "print(test_data['wellFormedAnswers'][0])"
      ],
      "execution_count": 14,
      "outputs": [
        {
          "output_type": "stream",
          "text": [
            "['Yes']\n",
            "{'is_selected': [0, 0, 1, 0, 0, 0, 0], 'passage_text': ['We have been feeding our back yard squirrels for the fall and winter and we noticed that a few of them have missing fur. One has a patch missing down his back and under both arms. Also another has some missing on his whole chest. They are all eating and seem to have a good appetite.', 'Critters cannot stand the smell of human hair, so sprinkling a barrier of hair clippings around your garden, or lightly working it into the soil when you plant bulbs, apparently does have some merit. The whole thing kind of makes me laugh. It never occurred to me that we are the ones that stink.', \"Spread some human hair around your vegetable and flower gardens. This will scare the squirrels away because humans are predators of squirrels. It is better if the hair hasn't been washed so the squirrels will easily pick up the human scent.\", '1 You can sprinkle blood meal around your garden as well. 2  Don’t trap and relocate squirrels. 3  This is a losing battle since the population of squirrels is extremely high. 4  Also, if the animal is a female there is a high likelihood that you will remove her from babies that depend on her for survival.', 'Hair loss in squirrels can be caused by mange or fungal disease. Mange is a disease caused by microscopic mites that burrow under the skin. The squirrel mange mite has been reported in both fox and gray squirrels. There have been no reports of this type of mange being transmitted to humans or domestic pets.', '1 You can also scatter dog or human hair around your garden. 2  One readers shares, “I used to have a problem with squirrels digging up my bulbs. 3  Now, once in the spring and once in the fall, I ask my hairdresser to save a big bag of hair for me. 4  I lightly dig this into the soil.', 'Rabbit repellent. Human hair will keep rabbits out of your garden!! Collect hair from your brushes and spread it around your garden! (via Pioneer Thinking). Natural mulch. When woven into a mat, it retains moisture, it deters weeds. In some instances, it can actually reduce soil erosion. (via NPR). Plant fertilizer.'], 'url': ['http://web.extension.illinois.edu/askextension/thisQuestion.cfm?ThreadID=18526&catID=213&AskSiteID=90', 'http://www.onehundreddollarsamonth.com/has-anyone-tried-using-hair-to-keep-squirrels-and-deer-out-of-your-garden/', 'http://www.gardenguides.com/106838-rid-ground-squirrels-tomato-plants-flowers.html', 'http://www.almanac.com/content/squirrels', 'http://web.extension.illinois.edu/askextension/thisQuestion.cfm?ThreadID=15895&catID=213&AskSiteID=90', 'http://www.almanac.com/content/squirrels', 'http://www.mnn.com/your-home/organic-farming-gardening/blogs/is-human-hair-good-for-your-garden']}\n",
            "does human hair stop squirrels\n",
            "0\n",
            "description\n",
            "[]\n"
          ],
          "name": "stdout"
        }
      ]
    },
    {
      "cell_type": "code",
      "metadata": {
        "colab": {
          "base_uri": "https://localhost:8080/"
        },
        "id": "BX3HO3K-t-Ya",
        "outputId": "0107de68-a7ec-4ce2-e0b3-d6695d2e4990"
      },
      "source": [
        "test_data['passages'][0]"
      ],
      "execution_count": 15,
      "outputs": [
        {
          "output_type": "execute_result",
          "data": {
            "text/plain": [
              "{'is_selected': [0, 0, 1, 0, 0, 0, 0],\n",
              " 'passage_text': ['We have been feeding our back yard squirrels for the fall and winter and we noticed that a few of them have missing fur. One has a patch missing down his back and under both arms. Also another has some missing on his whole chest. They are all eating and seem to have a good appetite.',\n",
              "  'Critters cannot stand the smell of human hair, so sprinkling a barrier of hair clippings around your garden, or lightly working it into the soil when you plant bulbs, apparently does have some merit. The whole thing kind of makes me laugh. It never occurred to me that we are the ones that stink.',\n",
              "  \"Spread some human hair around your vegetable and flower gardens. This will scare the squirrels away because humans are predators of squirrels. It is better if the hair hasn't been washed so the squirrels will easily pick up the human scent.\",\n",
              "  '1 You can sprinkle blood meal around your garden as well. 2  Don’t trap and relocate squirrels. 3  This is a losing battle since the population of squirrels is extremely high. 4  Also, if the animal is a female there is a high likelihood that you will remove her from babies that depend on her for survival.',\n",
              "  'Hair loss in squirrels can be caused by mange or fungal disease. Mange is a disease caused by microscopic mites that burrow under the skin. The squirrel mange mite has been reported in both fox and gray squirrels. There have been no reports of this type of mange being transmitted to humans or domestic pets.',\n",
              "  '1 You can also scatter dog or human hair around your garden. 2  One readers shares, “I used to have a problem with squirrels digging up my bulbs. 3  Now, once in the spring and once in the fall, I ask my hairdresser to save a big bag of hair for me. 4  I lightly dig this into the soil.',\n",
              "  'Rabbit repellent. Human hair will keep rabbits out of your garden!! Collect hair from your brushes and spread it around your garden! (via Pioneer Thinking). Natural mulch. When woven into a mat, it retains moisture, it deters weeds. In some instances, it can actually reduce soil erosion. (via NPR). Plant fertilizer.'],\n",
              " 'url': ['http://web.extension.illinois.edu/askextension/thisQuestion.cfm?ThreadID=18526&catID=213&AskSiteID=90',\n",
              "  'http://www.onehundreddollarsamonth.com/has-anyone-tried-using-hair-to-keep-squirrels-and-deer-out-of-your-garden/',\n",
              "  'http://www.gardenguides.com/106838-rid-ground-squirrels-tomato-plants-flowers.html',\n",
              "  'http://www.almanac.com/content/squirrels',\n",
              "  'http://web.extension.illinois.edu/askextension/thisQuestion.cfm?ThreadID=15895&catID=213&AskSiteID=90',\n",
              "  'http://www.almanac.com/content/squirrels',\n",
              "  'http://www.mnn.com/your-home/organic-farming-gardening/blogs/is-human-hair-good-for-your-garden']}"
            ]
          },
          "metadata": {
            "tags": []
          },
          "execution_count": 15
        }
      ]
    },
    {
      "cell_type": "code",
      "metadata": {
        "colab": {
          "base_uri": "https://localhost:8080/"
        },
        "id": "sbzwfxjAx7-X",
        "outputId": "88595494-cb7c-49f6-c23d-050752eafaa9"
      },
      "source": [
        "test_data['passages'][1]"
      ],
      "execution_count": 17,
      "outputs": [
        {
          "output_type": "execute_result",
          "data": {
            "text/plain": [
              "{'is_selected': [0, 1, 0, 0, 0, 0, 0, 0, 0],\n",
              " 'passage_text': ['The biggest advantage of using fossil fuels is that they can be easily stored and transported from one place to another. Large reserves of coal are therefore taken from the coal mines to the industries which are acres away from the mines. The petroleum is also taken to too far off power stations to produce energy. Fossil fuels are the highest producers of calorific value in terms of energy. This is also one of the reasons why they are still preferred over the renewable sources of energy or the alternative source',\n",
              "  'Benefits of fossil fuels. Fossil fuels are basically the remains of animals and plants and these are good energy resources. The three main fossil fuels are natural gas, oil, and coal. Fossil fuels are low in cost and are very important resources for our economy. Fossil fuels are used to generate electricity used as fuels for transportation.',\n",
              "  'Fossil fuels are energy resources that come from the remains of plants and animals. These remains are millions of years old. There are three fossil fuels: petroleum oil, natural gas, and coal. Fossil fuels, like coal, oil, and natural gas, provide the energy that powers our lifestyles and our economy. Fossil fuels power everything from the planes in the sky to the cars on the road. They heat our homes and light up the night. Theyre the bedrock we base our energy mix on.',\n",
              "  'Advantages of Fossil Fuels. A major advantage of fossil fuels is their capacity to generate huge amounts of electricity in just a single location. Fossil fuels are very easy to find. When coal is used in power plants, they are very cost effective. Coal is also in abundant supply. Transporting oil and gas to the power stations can be made through the use of pipes making it an easy task. Disadvantages of Fossil Fuels Pollution is a major disadvantage of fossil fuels. This is because they give off carbon dioxide when burned thereby causing a greenhouse effect. This is also the main contributory factor to the global warming experienced by the earth today.',\n",
              "  'Benefits One of the biggest benefits of fossil fuels is their cost. Coal, oil and natural gas are abundant right now and relatively inexpensive to drill or mine for. In fact, coal is the most plentiful fossil fuel and it is found over much of the world. Fossil fuels, like coal, oil, and natural gas, provide the energy that powers our lifestyles and our economy. Fossil fuels power everything from the planes in the sky to the cars on the road. They heat our homes and light up the night. Theyre the bedrock we base our energy mix on.',\n",
              "  'Fossil fuels also generate a lot of money and are a good source of revenue to many countries. They also help related industries provide jobs for people across the globe which is good for the overall economy. Fossil fuels are used for both residential and commercial purposes. The three main fossil fuels are natural gas, oil, and coal. Fossil fuels are low in cost and are very important resources for our economy. Fossil fuels are used to generate electricity used as fuels for transportation.',\n",
              "  '1. Easily Available: Since these fossil fuels have been of such a great source of energy, more and more extractions are going on every day. The geologists all around the world are trying to find out mines of coals. The pressure is even more as the population is increasing day by day. Fossil fuels are the highest producers of calorific value in terms of energy. This is also one of the reasons why they are still preferred over the renewable sources of energy or the alternative source',\n",
              "  \"You have undoubtedly heard of fuels such as coal, oil and natural gas. These are the three main types of fossil fuels. You rely on fossil fuels every day for such tasks as fueling your car and heating your home. And, it's very likely that the electricity in your home comes from a power plant that uses fossil fuels. Let's review. Fossil fuels are sources of energy that formed from the accumulated remains of living organisms that were buried millions of years ago. Pressure, heat and time allow the organic matter to transform into one of the three major types of fossil fuels, which are coal, oil and natural gas.\",\n",
              "  \"Fossil fuels are sources of energy that have developed within the earth over millions of years. Because fossil fuels-oil, natural gas, and coal-take so long to form, they are considered nonrenewable. Let's review. Fossil fuels are sources of energy that formed from the accumulated remains of living organisms that were buried millions of years ago. Pressure, heat and time allow the organic matter to transform into one of the three major types of fossil fuels, which are coal, oil and natural gas.\"],\n",
              " 'url': ['http://www.conserve-energy-future.com/Advantages_FossilFuels.php',\n",
              "  'http://benefitof.net/benefits-of-fossil-fuels/',\n",
              "  'http://www.iptv.org/exploremore/energy/profiles/fossil_fuels.cfm',\n",
              "  'http://www.alternativeenergysecret.com/fossil-fuels.html',\n",
              "  'http://www.iptv.org/exploremore/energy/profiles/fossil_fuels.cfm',\n",
              "  'http://benefitof.net/benefits-of-fossil-fuels/',\n",
              "  'http://www.conserve-energy-future.com/Advantages_FossilFuels.php',\n",
              "  'http://study.com/academy/lesson/what-are-fossil-fuels-definition-advantages-disadvantages.html',\n",
              "  'http://study.com/academy/lesson/what-are-fossil-fuels-definition-advantages-disadvantages.html']}"
            ]
          },
          "metadata": {
            "tags": []
          },
          "execution_count": 17
        }
      ]
    },
    {
      "cell_type": "markdown",
      "metadata": {
        "id": "F16QqGsBun2r"
      },
      "source": [
        "### Observations:\r\n",
        "* For each record we have a query and differnt set of passages and URLs out of which one passages should be selected as per `is_selected` array value"
      ]
    },
    {
      "cell_type": "markdown",
      "metadata": {
        "id": "cDBk1-A1yVYp"
      },
      "source": [
        "## Testing Model:"
      ]
    },
    {
      "cell_type": "code",
      "metadata": {
        "colab": {
          "base_uri": "https://localhost:8080/",
          "height": 261,
          "referenced_widgets": [
            "c846f8fd81f044aeb65009cbaf74d62e",
            "4540cff4000c484ba3ff101dcd495a8f",
            "ac5815a609ac4637927e50446d6710a3",
            "62dedb3b42744c8f8fb93b2e02c2d380",
            "38b78aede2a74146a8cbbe5a25699b1f",
            "166f8e6a2ee74274b83fc6ec1459ef78",
            "dc6b96b79e9249cd8a04866b4f3cd3ce",
            "f6f4fb390ce04c12920ecfc1becb9452",
            "62e756264a0a4fc69de38603deada4c8",
            "4af1d960aae048ed9a318f479fd1861b",
            "c2bb87e33bc3400abc06bc49024d5a33",
            "933aca13d6524f40b0859e40d875a923",
            "dce089797e12416db858b7879ddceb0f",
            "66a7fd92a57e4fe89d00eb26cde1108f",
            "4931125d0ec94730bf01bf66affc3031",
            "22f516b3e3754afca9596b746e30dcd0",
            "8ee7da8f23cf45c79511e1e4f82f71c4",
            "9769db1ff79d4163983c09e5587fe02b",
            "7f42427245a841d88872d59a00493b1f",
            "cfa2f9e8d79b4a3b8e41334ed02044ac",
            "2a53c54f97494e169f71e895a28eb1de",
            "affff800e8554eb29b6b668401c636c5",
            "882b6b79d68a4684b1ea315e64e94ef6",
            "fa034abc163449c2a4a2bd145e9abe0d",
            "8448a8855f974930b7682757c94966a6",
            "e51b482c0dd24b1d94b8da893b02c599",
            "b1946e5ea8ee4a278b50ca140df77f1f",
            "affc8691936f45268f98d0c4c8ef303f",
            "e898b17a4cd748bdaa1cf0231318d153",
            "cb843178500f4107af621718c0ccba67",
            "bbdc712402ed4e198d22402bb12d2b4b",
            "2e6b038eb1dd494696cb6141afc06916",
            "ae83726cf01944479096afc92bbb886a",
            "62da5442dbc14ec5a3ac3044a5ddad41",
            "3db243e4c79f411cb36f78cb990edf8f",
            "61348c58a3134ae1b47e84dad7d0dc81",
            "3d2fad7802f14ae986ba989feb8e2bbe",
            "04685ba5105942f8a0f60d76e98d98bb",
            "aadfcdf83b5b4322b47679e8ac4e358d",
            "7a3a06219e0b4b649c39abc5b937f1c9"
          ]
        },
        "id": "ms79KU83wYf5",
        "outputId": "4d7c44e4-1aba-4303-adda-d1070c582253"
      },
      "source": [
        "from reranker import RerankerForInference\r\n",
        "rk = RerankerForInference.from_pretrained(\"Luyu/bert-base-mdoc-bm25\")  # load checkpoint"
      ],
      "execution_count": 21,
      "outputs": [
        {
          "output_type": "display_data",
          "data": {
            "application/vnd.jupyter.widget-view+json": {
              "model_id": "c846f8fd81f044aeb65009cbaf74d62e",
              "version_minor": 0,
              "version_major": 2
            },
            "text/plain": [
              "HBox(children=(FloatProgress(value=0.0, description='Downloading', max=560.0, style=ProgressStyle(description_…"
            ]
          },
          "metadata": {
            "tags": []
          }
        },
        {
          "output_type": "stream",
          "text": [
            "\n"
          ],
          "name": "stdout"
        },
        {
          "output_type": "display_data",
          "data": {
            "application/vnd.jupyter.widget-view+json": {
              "model_id": "62e756264a0a4fc69de38603deada4c8",
              "version_minor": 0,
              "version_major": 2
            },
            "text/plain": [
              "HBox(children=(FloatProgress(value=0.0, description='Downloading', max=438021385.0, style=ProgressStyle(descri…"
            ]
          },
          "metadata": {
            "tags": []
          }
        },
        {
          "output_type": "stream",
          "text": [
            "\n"
          ],
          "name": "stdout"
        },
        {
          "output_type": "display_data",
          "data": {
            "application/vnd.jupyter.widget-view+json": {
              "model_id": "8ee7da8f23cf45c79511e1e4f82f71c4",
              "version_minor": 0,
              "version_major": 2
            },
            "text/plain": [
              "HBox(children=(FloatProgress(value=0.0, description='Downloading', max=231508.0, style=ProgressStyle(descripti…"
            ]
          },
          "metadata": {
            "tags": []
          }
        },
        {
          "output_type": "stream",
          "text": [
            "\n"
          ],
          "name": "stdout"
        },
        {
          "output_type": "display_data",
          "data": {
            "application/vnd.jupyter.widget-view+json": {
              "model_id": "8448a8855f974930b7682757c94966a6",
              "version_minor": 0,
              "version_major": 2
            },
            "text/plain": [
              "HBox(children=(FloatProgress(value=0.0, description='Downloading', max=112.0, style=ProgressStyle(description_…"
            ]
          },
          "metadata": {
            "tags": []
          }
        },
        {
          "output_type": "stream",
          "text": [
            "\n"
          ],
          "name": "stdout"
        },
        {
          "output_type": "display_data",
          "data": {
            "application/vnd.jupyter.widget-view+json": {
              "model_id": "ae83726cf01944479096afc92bbb886a",
              "version_minor": 0,
              "version_major": 2
            },
            "text/plain": [
              "HBox(children=(FloatProgress(value=0.0, description='Downloading', max=48.0, style=ProgressStyle(description_w…"
            ]
          },
          "metadata": {
            "tags": []
          }
        },
        {
          "output_type": "stream",
          "text": [
            "\n"
          ],
          "name": "stdout"
        }
      ]
    },
    {
      "cell_type": "code",
      "metadata": {
        "id": "NJdEBm6hyc-I"
      },
      "source": [
        "def get_scores(index):\r\n",
        "  query = test_data['query'][index]\r\n",
        "  passages = test_data['passages'][index]['passage_text']\r\n",
        "  target = test_data['passages'][index]['is_selected']\r\n",
        "  scores = []\r\n",
        "  for passage in passages:\r\n",
        "    inputs = rk.tokenize(query, passage, return_tensors='pt')\r\n",
        "    score = rk(inputs).logits.item()\r\n",
        "    scores.append(score)\r\n",
        "  score_argsort = np.argsort(scores)[::-1]\r\n",
        "  print(\"Targeted Passage:\",target)\r\n",
        "  print(\"Predicted Score:\",scores)\r\n",
        "  print(\"Sorted Index based on Decreasing Score\", score_argsort)\r\n",
        "  return target, scores, score_argsort"
      ],
      "execution_count": 64,
      "outputs": []
    },
    {
      "cell_type": "code",
      "metadata": {
        "colab": {
          "base_uri": "https://localhost:8080/"
        },
        "id": "pgM-JWTIy4dn",
        "outputId": "38da20a1-61d0-45d6-eb6b-efdb09efffee"
      },
      "source": [
        "for i in range(10):\r\n",
        "  print(\"Example\", i)\r\n",
        "  get_scores(i)\r\n",
        "  print()"
      ],
      "execution_count": 68,
      "outputs": [
        {
          "output_type": "stream",
          "text": [
            "Example 0\n",
            "Targeted Passage: [0, 0, 1, 0, 0, 0, 0]\n",
            "Predicted Score: [-8.834932327270508, -1.7923879623413086, 0.21405810117721558, -8.503399848937988, -2.9099104404449463, -3.4219794273376465, 1.7465850114822388]\n",
            "Sorted Index based on Decreasing Score [6 2 1 4 5 3 0]\n",
            "\n",
            "Example 1\n",
            "Targeted Passage: [0, 1, 0, 0, 0, 0, 0, 0, 0]\n",
            "Predicted Score: [4.3025383949279785, 6.56196928024292, 3.0258352756500244, 6.598850250244141, 5.4347100257873535, 1.1481492519378662, -0.01136590912938118, -1.6975057125091553, 0.5051694512367249]\n",
            "Sorted Index based on Decreasing Score [3 1 4 0 2 5 8 6 7]\n",
            "\n",
            "Example 2\n",
            "Targeted Passage: [0, 0, 0, 0, 0, 1, 0, 0, 0]\n",
            "Predicted Score: [2.688828468322754, 4.243185520172119, 1.2499558925628662, -9.724624633789062, 0.3372823894023895, 5.192684173583984, 3.6605515480041504, 4.845767974853516, 5.857206344604492]\n",
            "Sorted Index based on Decreasing Score [8 5 7 1 6 0 2 4 3]\n",
            "\n",
            "Example 3\n",
            "Targeted Passage: [0, 0, 0, 0, 0, 1, 0, 0, 0]\n",
            "Predicted Score: [-7.31172513961792, -0.9071551561355591, -0.7116924524307251, -5.561455249786377, -7.353078842163086, 2.1713201999664307, 1.4022623300552368, -4.115874290466309, -6.097036838531494]\n",
            "Sorted Index based on Decreasing Score [5 6 2 1 7 3 8 0 4]\n",
            "\n",
            "Example 4\n",
            "Targeted Passage: [0, 1, 0, 0, 0, 0, 0, 0, 0, 0]\n",
            "Predicted Score: [6.292541980743408, 7.68308687210083, 8.348308563232422, 8.09872055053711, 7.783168315887451, 4.312790870666504, 6.415641784667969, 7.590443134307861, 6.560464859008789, 7.648006439208984]\n",
            "Sorted Index based on Decreasing Score [2 3 4 1 9 7 8 6 0 5]\n",
            "\n",
            "Example 5\n",
            "Targeted Passage: [0, 0, 0, 0, 0, 1, 0, 1, 0, 0]\n",
            "Predicted Score: [0.9629094004631042, -1.4527500867843628, -8.006003379821777, 1.0587395429611206, -0.7447719573974609, -0.8590477705001831, -4.761907577514648, -0.5668269395828247, -1.6954078674316406, -5.155871868133545]\n",
            "Sorted Index based on Decreasing Score [3 0 7 4 5 1 8 6 9 2]\n",
            "\n",
            "Example 6\n",
            "Targeted Passage: [0, 0, 0, 0, 0, 0, 0, 1, 0]\n",
            "Predicted Score: [3.88163161277771, 1.2846815586090088, -0.37618178129196167, -4.090761661529541, 1.3215593099594116, -1.1617649793624878, -1.878730297088623, 4.545882701873779, 4.278787136077881]\n",
            "Sorted Index based on Decreasing Score [7 8 0 4 1 2 5 6 3]\n",
            "\n",
            "Example 7\n",
            "Targeted Passage: [0, 0, 0, 0, 1, 0]\n",
            "Predicted Score: [1.128326654434204, 2.369598865509033, 3.8863155841827393, 4.4347333908081055, 4.757338523864746, 3.9197449684143066]\n",
            "Sorted Index based on Decreasing Score [4 3 5 2 1 0]\n",
            "\n",
            "Example 8\n",
            "Targeted Passage: [1, 0, 0, 0, 0, 0]\n",
            "Predicted Score: [8.39245891571045, 1.5304100513458252, 5.0016350746154785, 5.6423444747924805, 4.847890377044678, 4.995707988739014]\n",
            "Sorted Index based on Decreasing Score [0 3 2 5 4 1]\n",
            "\n",
            "Example 9\n",
            "Targeted Passage: [0, 1, 0, 0, 0, 0, 0, 0, 0, 0]\n",
            "Predicted Score: [0.5918765068054199, 0.5064653158187866, -1.508193850517273, 0.23988479375839233, -6.578967094421387, 1.1400549411773682, 0.3974582850933075, 1.7705031633377075, 0.45897042751312256, -1.0163829326629639]\n",
            "Sorted Index based on Decreasing Score [7 5 0 1 8 6 3 9 2 4]\n",
            "\n"
          ],
          "name": "stdout"
        }
      ]
    },
    {
      "cell_type": "code",
      "metadata": {
        "id": "MNqb1ci91gJG"
      },
      "source": [
        ""
      ],
      "execution_count": null,
      "outputs": []
    }
  ]
}